{
 "cells": [
  {
   "cell_type": "code",
   "execution_count": 1,
   "metadata": {},
   "outputs": [
    {
     "name": "stderr",
     "output_type": "stream",
     "text": [
      "2023-01-01 19:57:46.895224: I tensorflow/core/platform/cpu_feature_guard.cc:193] This TensorFlow binary is optimized with oneAPI Deep Neural Network Library (oneDNN) to use the following CPU instructions in performance-critical operations:  AVX2 FMA\n",
      "To enable them in other operations, rebuild TensorFlow with the appropriate compiler flags.\n",
      "2023-01-01 19:58:19.572827: W tensorflow/compiler/xla/stream_executor/platform/default/dso_loader.cc:64] Could not load dynamic library 'libcudart.so.11.0'; dlerror: libcudart.so.11.0: cannot open shared object file: No such file or directory\n",
      "2023-01-01 19:58:19.572882: I tensorflow/compiler/xla/stream_executor/cuda/cudart_stub.cc:29] Ignore above cudart dlerror if you do not have a GPU set up on your machine.\n"
     ]
    }
   ],
   "source": [
    "import numpy as np\n",
    "from pandas import read_csv\n",
    "import tensorflow as tf\n",
    "from tensorflow import keras\n",
    "from keras import layers\n",
    "from IPython.display import clear_output\n",
    "clear_output()"
   ]
  },
  {
   "cell_type": "code",
   "execution_count": null,
   "metadata": {},
   "outputs": [],
   "source": [
    "path =\"training.1600000.processed.noemoticon.csv\"\n",
    "df = read_csv(path,encoding=\"ISO-8859-1\",usecols=[0,5]).rename(columns = {'pointer':'Col1','text':'Col2'})"
   ]
  },
  {
   "cell_type": "code",
   "execution_count": null,
   "metadata": {},
   "outputs": [
    {
     "name": "stdout",
     "output_type": "stream",
     "text": [
      "Index(['mood', 'text'], dtype='object')\n"
     ]
    },
    {
     "data": {
      "text/html": [
       "<div>\n",
       "<style scoped>\n",
       "    .dataframe tbody tr th:only-of-type {\n",
       "        vertical-align: middle;\n",
       "    }\n",
       "\n",
       "    .dataframe tbody tr th {\n",
       "        vertical-align: top;\n",
       "    }\n",
       "\n",
       "    .dataframe thead th {\n",
       "        text-align: right;\n",
       "    }\n",
       "</style>\n",
       "<table border=\"1\" class=\"dataframe\">\n",
       "  <thead>\n",
       "    <tr style=\"text-align: right;\">\n",
       "      <th></th>\n",
       "      <th>mood</th>\n",
       "      <th>text</th>\n",
       "    </tr>\n",
       "  </thead>\n",
       "  <tbody>\n",
       "    <tr>\n",
       "      <th>0</th>\n",
       "      <td>0</td>\n",
       "      <td>is upset that he can't update his Facebook by ...</td>\n",
       "    </tr>\n",
       "    <tr>\n",
       "      <th>1</th>\n",
       "      <td>0</td>\n",
       "      <td>@Kenichan I dived many times for the ball. Man...</td>\n",
       "    </tr>\n",
       "    <tr>\n",
       "      <th>2</th>\n",
       "      <td>0</td>\n",
       "      <td>my whole body feels itchy and like its on fire</td>\n",
       "    </tr>\n",
       "    <tr>\n",
       "      <th>3</th>\n",
       "      <td>0</td>\n",
       "      <td>@nationwideclass no, it's not behaving at all....</td>\n",
       "    </tr>\n",
       "    <tr>\n",
       "      <th>4</th>\n",
       "      <td>0</td>\n",
       "      <td>@Kwesidei not the whole crew</td>\n",
       "    </tr>\n",
       "  </tbody>\n",
       "</table>\n",
       "</div>"
      ],
      "text/plain": [
       "   mood                                               text\n",
       "0     0  is upset that he can't update his Facebook by ...\n",
       "1     0  @Kenichan I dived many times for the ball. Man...\n",
       "2     0    my whole body feels itchy and like its on fire \n",
       "3     0  @nationwideclass no, it's not behaving at all....\n",
       "4     0                      @Kwesidei not the whole crew "
      ]
     },
     "execution_count": 4,
     "metadata": {},
     "output_type": "execute_result"
    }
   ],
   "source": [
    "mood,text = df.columns\n",
    "df = df.rename(columns = {mood:'mood',text:\"text\"} )\n",
    "print(df.columns)\n",
    "df.head()"
   ]
  },
  {
   "cell_type": "code",
   "execution_count": 5,
   "metadata": {},
   "outputs": [],
   "source": [
    "df = df.sample(frac=1,random_state=42) # randomize dataset rows"
   ]
  },
  {
   "cell_type": "code",
   "execution_count": 6,
   "metadata": {},
   "outputs": [],
   "source": [
    "train_ratio = 0.9\n",
    "lendf = len(df)\n",
    "index = int(lendf*train_ratio) # get training / testing index separation\n",
    "\n",
    "Xtrain = df[\"text\"].head(index) \n",
    "Ytrain = df[\"mood\"].head(index)\n",
    "\n",
    "Xtest = df[\"text\"].tail(lendf-index)\n",
    "Ytest = df[\"mood\"].tail(lendf-index)\n",
    "\n",
    "Xtrain = np.array(Xtrain)\n",
    "Ytrain = np.array(Ytrain)\n",
    "Xtest = np.array(Xtest)\n",
    "Ytest = np.array(Ytest)"
   ]
  },
  {
   "cell_type": "code",
   "execution_count": 7,
   "metadata": {},
   "outputs": [
    {
     "name": "stderr",
     "output_type": "stream",
     "text": [
      "2023-01-01 19:52:41.975636: I tensorflow/compiler/xla/stream_executor/cuda/cuda_gpu_executor.cc:967] could not open file to read NUMA node: /sys/bus/pci/devices/0000:01:00.0/numa_node\n",
      "Your kernel may have been built without NUMA support.\n",
      "2023-01-01 19:52:41.975838: W tensorflow/compiler/xla/stream_executor/platform/default/dso_loader.cc:64] Could not load dynamic library 'libcudart.so.11.0'; dlerror: libcudart.so.11.0: cannot open shared object file: No such file or directory\n",
      "2023-01-01 19:52:41.975893: W tensorflow/compiler/xla/stream_executor/platform/default/dso_loader.cc:64] Could not load dynamic library 'libcublas.so.11'; dlerror: libcublas.so.11: cannot open shared object file: No such file or directory\n",
      "2023-01-01 19:52:41.975934: W tensorflow/compiler/xla/stream_executor/platform/default/dso_loader.cc:64] Could not load dynamic library 'libcublasLt.so.11'; dlerror: libcublasLt.so.11: cannot open shared object file: No such file or directory\n",
      "2023-01-01 19:52:41.975972: W tensorflow/compiler/xla/stream_executor/platform/default/dso_loader.cc:64] Could not load dynamic library 'libcufft.so.10'; dlerror: libcufft.so.10: cannot open shared object file: No such file or directory\n",
      "2023-01-01 19:52:41.976011: W tensorflow/compiler/xla/stream_executor/platform/default/dso_loader.cc:64] Could not load dynamic library 'libcurand.so.10'; dlerror: libcurand.so.10: cannot open shared object file: No such file or directory\n",
      "2023-01-01 19:52:41.976048: W tensorflow/compiler/xla/stream_executor/platform/default/dso_loader.cc:64] Could not load dynamic library 'libcusolver.so.11'; dlerror: libcusolver.so.11: cannot open shared object file: No such file or directory\n",
      "2023-01-01 19:52:41.976086: W tensorflow/compiler/xla/stream_executor/platform/default/dso_loader.cc:64] Could not load dynamic library 'libcusparse.so.11'; dlerror: libcusparse.so.11: cannot open shared object file: No such file or directory\n",
      "2023-01-01 19:52:41.976123: W tensorflow/compiler/xla/stream_executor/platform/default/dso_loader.cc:64] Could not load dynamic library 'libcudnn.so.8'; dlerror: libcudnn.so.8: cannot open shared object file: No such file or directory\n",
      "2023-01-01 19:52:41.976158: W tensorflow/core/common_runtime/gpu/gpu_device.cc:1934] Cannot dlopen some GPU libraries. Please make sure the missing libraries mentioned above are installed properly if you would like to use GPU. Follow the guide at https://www.tensorflow.org/install/gpu for how to download and setup the required libraries for your platform.\n",
      "Skipping registering GPU devices...\n",
      "2023-01-01 19:52:42.054564: I tensorflow/core/platform/cpu_feature_guard.cc:193] This TensorFlow binary is optimized with oneAPI Deep Neural Network Library (oneDNN) to use the following CPU instructions in performance-critical operations:  AVX2 FMA\n",
      "To enable them in other operations, rebuild TensorFlow with the appropriate compiler flags.\n"
     ]
    }
   ],
   "source": [
    "tokens = 10000\n",
    "sequence_length = 50 # approx nb of words per tweet\n",
    "\n",
    "vect_layer = keras.layers.TextVectorization(\n",
    "    max_tokens = tokens,\n",
    "    output_mode= 'int',\n",
    "    output_sequence_length=sequence_length\n",
    "    )\n",
    "#we vectorize words that are in training dataset\n",
    "#we dont adapt on test dataset so that we dont leak information\n",
    "\n",
    "vect_layer.adapt(Xtrain[:100000]) \n",
    "# we could adapt on while dataset but words are mostly the same \n",
    "clear_output()"
   ]
  },
  {
   "cell_type": "code",
   "execution_count": 8,
   "metadata": {},
   "outputs": [
    {
     "name": "stderr",
     "output_type": "stream",
     "text": [
      "2023-01-01 19:52:58.708338: W tensorflow/tsl/framework/cpu_allocator_impl.cc:82] Allocation of 300353008 exceeds 10% of free system memory.\n",
      "2023-01-01 19:52:58.708413: W tensorflow/tsl/framework/cpu_allocator_impl.cc:82] Allocation of 450529512 exceeds 10% of free system memory.\n",
      "2023-01-01 19:53:17.624736: W tensorflow/tsl/framework/cpu_allocator_impl.cc:82] Allocation of 575999600 exceeds 10% of free system memory.\n"
     ]
    }
   ],
   "source": [
    "Xtrain_vectorized = vect_layer(Xtrain)\n",
    "Xtest_vectorized = vect_layer(Xtest)\n",
    "\n",
    "#one-hot vectorization\n",
    "def get01(i): #\n",
    "    \"\"\"i = 0 ou 4\n",
    "    4==> [1.0] ==> positif\n",
    "    0==> [0,1] ==> negatif\n",
    "    \n",
    "    \"\"\"\n",
    "    if i:\n",
    "        return [1,0]\n",
    "    return [0,1]\n",
    "\n",
    "# be sure to have enough RAM to run this line !\n",
    "Ytrain_vect = np.array([get01(i) for i in Ytrain]) \n",
    "Ytest_vect = np.array([get01(i) for i in Ytest])"
   ]
  },
  {
   "cell_type": "code",
   "execution_count": null,
   "metadata": {},
   "outputs": [],
   "source": [
    "print(Xtrain[0])\n",
    "print(int(Xtrain_vectorized[0][1]))\n",
    "print(vect_layer.get_vocabulary()[6])"
   ]
  },
  {
   "cell_type": "code",
   "execution_count": null,
   "metadata": {},
   "outputs": [],
   "source": [
    "embedding_dim = 16 #Dimension of the dense embedding\n",
    "model = keras.Sequential()\n",
    "model.add(layers.Embedding(tokens+1,embedding_dim))\n",
    "model.add(layers.Bidirectional(layers.LSTM(8))) # 8-neuron LSTM\n",
    "model.add(layers.Flatten()) #dimensions purposes\n",
    "model.add(layers.Dense(sequence_length,activation=\"relu\"))\n",
    "model.add(layers.Dense(2,activation= \"softmax\"))\n",
    "model.summary()\n",
    "\n",
    "model.compile(loss=\"binary_crossentropy\",\n",
    "              optimizer='adam',\n",
    "             metrics = [\"accuracy\"])"
   ]
  },
  {
   "cell_type": "code",
   "execution_count": null,
   "metadata": {},
   "outputs": [],
   "source": [
    "epochs=10\n",
    "h=model.fit(Xtrain_vectorized,Ytrain_vect,batch_size=128,epochs=epochs)\n",
    "writer = tf.summary.create_file_writer('logs_kaggle')\n",
    "acc = h.history[\"accuracy\"]\n",
    "for epoch in range(epochs):\n",
    "    with writer.as_default():\n",
    "        tf.summary.scalar('accuracy', acc[epoch], step=epoch)\n",
    "\n",
    "\n",
    "# to see tensorboard\n",
    "# type tensorboard --logdir logs_kaggle\n",
    "# and then go to localhost:6006 to see graph\n"
   ]
  },
  {
   "cell_type": "code",
   "execution_count": null,
   "metadata": {},
   "outputs": [],
   "source": [
    "acc,loss = model.evaluate(Xtest_vectorized,Ytest_vect)"
   ]
  },
  {
   "cell_type": "code",
   "execution_count": null,
   "metadata": {},
   "outputs": [],
   "source": [
    "# saving model and vectorization layer for future use\n",
    "#see more at nathanferet.fr/projects/tweet_classification\n",
    "\n",
    "model.save(\"mymodel\")\n",
    "import pickle\n",
    "pickle.dump({'config': vect_layer.get_config(),\n",
    "             'weights': vect_layer.get_weights()}\n",
    "            , open(\"tv_layer.pkl\", \"wb\"))"
   ]
  }
 ],
 "metadata": {
  "kernelspec": {
   "display_name": "Python 3",
   "language": "python",
   "name": "python3"
  },
  "language_info": {
   "codemirror_mode": {
    "name": "ipython",
    "version": 3
   },
   "file_extension": ".py",
   "mimetype": "text/x-python",
   "name": "python",
   "nbconvert_exporter": "python",
   "pygments_lexer": "ipython3",
   "version": "3.8.10 (default, Jun 22 2022, 20:18:18) \n[GCC 9.4.0]"
  },
  "orig_nbformat": 4,
  "vscode": {
   "interpreter": {
    "hash": "916dbcbb3f70747c44a77c7bcd40155683ae19c65e1c03b4aa3499c5328201f1"
   }
  }
 },
 "nbformat": 4,
 "nbformat_minor": 2
}
